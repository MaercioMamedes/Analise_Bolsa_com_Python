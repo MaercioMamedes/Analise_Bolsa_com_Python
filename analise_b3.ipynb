{
 "cells": [
  {
   "cell_type": "markdown",
   "id": "b50a9161-2088-4bcf-9d86-feba5d4ea36b",
   "metadata": {},
   "source": [
    "# Análise Exploratória com Pandas\n",
    "## Estudando as empresas Listadas na bolsa de Valores B3"
   ]
  },
  {
   "cell_type": "markdown",
   "id": "27b2c41a-c723-434e-ac9f-0b18842ce734",
   "metadata": {},
   "source": [
    "Dados extraídos do portal [Fundamentus](https://www.fundamentus.com.br/resultado.php) no dia 01/02/2024"
   ]
  },
  {
   "cell_type": "code",
   "execution_count": null,
   "id": "bd259710-ef5b-410c-9a5b-67fdb958b5b7",
   "metadata": {},
   "outputs": [],
   "source": [
    "import pandas as pd\n",
    "import pprint\n",
    "import seaborn as  sns\n",
    "import matplotlib.pyplot as plt\n",
    "import re\n",
    "from unicodedata import normalize\n",
    "\n",
    "pd.set_option('display.max_columns', None)"
   ]
  },
  {
   "cell_type": "code",
   "execution_count": null,
   "id": "13a0624e",
   "metadata": {},
   "outputs": [],
   "source": [
    "# helpers\n",
    "\n",
    "def format_column_names(text):\n",
    "\n",
    "\n",
    "    \n",
    "    string_step1 = text.replace(\".\", \"_\")\n",
    "    \n",
    "    string_step2 = string_step1.replace(' ', \"_\")\n",
    "    \n",
    "    string_step3 = string_step2.replace('/', '_')\n",
    "\n",
    "    string_step4 = string_step3.replace('__', '_')\n",
    "\n",
    "    if '_' == string_step4[-1]:\n",
    "\n",
    "        return normalize('NFKD', string_step4[:-1]).encode('ASCII', 'ignore').decode('ASCII')\n",
    "    \n",
    "    else:\n",
    "\n",
    "        return normalize('NFKD', string_step4).encode('ASCII', 'ignore').decode('ASCII')\n",
    "\n"
   ]
  },
  {
   "cell_type": "markdown",
   "id": "289871bf",
   "metadata": {},
   "source": [
    "## ATIVIDADE 1"
   ]
  },
  {
   "cell_type": "code",
   "execution_count": null,
   "id": "131f6944-f353-4766-b817-c39f34d2dc1e",
   "metadata": {},
   "outputs": [],
   "source": [
    "#Leirura do arquivo\n",
    "\n",
    "data = pd.read_csv(\"./dados/empresas_bolsas.csv\", sep=\";\")\n"
   ]
  },
  {
   "cell_type": "code",
   "execution_count": null,
   "id": "178ebc3b-3fae-4ada-88d5-5c4628cfb260",
   "metadata": {},
   "outputs": [],
   "source": [
    "# 7 primeiras linhas do dataset\n",
    "\n",
    "data.head(7)"
   ]
  },
  {
   "cell_type": "code",
   "execution_count": null,
   "id": "08082c23-d145-4987-b819-522fdc39ed75",
   "metadata": {},
   "outputs": [],
   "source": [
    "# 5 últimas linhas do dataset\n",
    "\n",
    "data.tail(5)"
   ]
  },
  {
   "cell_type": "code",
   "execution_count": null,
   "id": "98bfac5f",
   "metadata": {},
   "outputs": [],
   "source": [
    "# Estrutura do DataFrame\n",
    "\n",
    "linhas = data.shape[0]\n",
    "colunas = data.shape[1]\n",
    "print(f\"O DataFrame Possui {linhas} linhas e {colunas} colunas\")"
   ]
  },
  {
   "cell_type": "code",
   "execution_count": null,
   "id": "3a012052",
   "metadata": {},
   "outputs": [],
   "source": [
    "# Explorando as colunas do DataFrame\n",
    "\n",
    "print(data.info())"
   ]
  },
  {
   "cell_type": "code",
   "execution_count": null,
   "id": "77a8ccab",
   "metadata": {},
   "outputs": [],
   "source": [
    "# Identificando as colunas do DataFrame\n",
    "\n",
    "pp = pprint.PrettyPrinter(indent=4)\n",
    "colunas_Df = data.columns\n",
    "pp.pprint(list(colunas_Df))\n",
    "\n",
    "columns_exclude = [\n",
    "    'PAPEL',\n",
    "    'DIV.YIELD',\n",
    "    'MRG EBIT',\n",
    "    'MRG. LÍQ.',\n",
    "    'ROIC',\n",
    "    'ROE',\n",
    "    'CRESC. REC.5A',\n",
    "]\n",
    "\n",
    "numerical_columns = list(data.columns)\n",
    "\n",
    "for i in columns_exclude:\n",
    "    numerical_columns.remove(i)\n",
    "\n",
    "percentual_number_columns = [\n",
    "    'DIV.YIELD',\n",
    "    'MRG EBIT',\n",
    "    'MRG. LÍQ.',\n",
    "    'ROIC',\n",
    "    'ROE',\n",
    "    'CRESC. REC.5A'\n",
    "]"
   ]
  },
  {
   "cell_type": "code",
   "execution_count": null,
   "id": "a1892889",
   "metadata": {},
   "outputs": [],
   "source": [
    "# transformando os valores percentuais para float\n",
    "\n",
    "for i in percentual_number_columns:\n",
    "    data[i] = data[i].str[:-1]\n",
    "    data[i] = data[i].str.replace(',', '.')\n",
    "\n",
    "    for j in range(len(data[i])):\n",
    "        list_index = []\n",
    "        value = data[i][j]\n",
    "\n",
    "        for index in range(len(value)):\n",
    "            if value[index] == '.':\n",
    "                list_index.append(index)\n",
    "\n",
    "        new_value = value[:list_index[-1]].replace('.', '') + value[list_index[-1]:]\n",
    "\n",
    "        #data[i][j] = new_value\n",
    "        data.loc[j, i] = new_value\n",
    "        #print(new_value)\n",
    "        #data[i].replace(j, new_value, inplace=True)\n",
    "        #data.replace({i:{j:new_value}}, inplace=True) \n",
    "        #data[i] = data[i].replace(j, new_value)     \n",
    "        #print(data[i][j])\n",
    "\n",
    "for i in percentual_number_columns:\n",
    "    data[i] = data[i].astype('float')\n",
    "    data[i] = data[i]*0.01"
   ]
  },
  {
   "cell_type": "code",
   "execution_count": null,
   "id": "191286b6",
   "metadata": {},
   "outputs": [],
   "source": [
    "# transformando os dados numéricos em formato de String para tipo Float\n",
    "\n",
    "for i in numerical_columns:\n",
    "    if data[i].dtype == 'object':\n",
    "        data[i] = data[i].str.replace(',', '.')\n",
    "        data[i] = data[i].astype('float')"
   ]
  },
  {
   "cell_type": "code",
   "execution_count": null,
   "id": "99021c35",
   "metadata": {},
   "outputs": [],
   "source": [
    "data.head(10)"
   ]
  },
  {
   "cell_type": "code",
   "execution_count": null,
   "id": "88de7584",
   "metadata": {},
   "outputs": [],
   "source": [
    "data.tail(10)"
   ]
  },
  {
   "cell_type": "code",
   "execution_count": null,
   "id": "bd7112c5",
   "metadata": {},
   "outputs": [],
   "source": []
  },
  {
   "cell_type": "code",
   "execution_count": null,
   "id": "9a5e5ecf",
   "metadata": {},
   "outputs": [],
   "source": [
    "data.info()"
   ]
  },
  {
   "cell_type": "markdown",
   "id": "89515d79",
   "metadata": {},
   "source": [
    "## ATIVIDADE 2"
   ]
  },
  {
   "cell_type": "code",
   "execution_count": null,
   "id": "00396d3e",
   "metadata": {},
   "outputs": [],
   "source": [
    "# Buscando Valores ausentes na tabela\n",
    "\n",
    "data.isna().sum()"
   ]
  },
  {
   "cell_type": "code",
   "execution_count": null,
   "id": "4020263d",
   "metadata": {},
   "outputs": [],
   "source": [
    "# preenchendo valores ausentes com Zero\n",
    "\n",
    "data.fillna(value=0, inplace=True)\n",
    "data.isna().sum()"
   ]
  },
  {
   "cell_type": "code",
   "execution_count": null,
   "id": "bd0afef2",
   "metadata": {},
   "outputs": [],
   "source": [
    "# Ajustes dos nomes das colunas\n",
    "\n",
    "columns = list(data.columns)\n",
    "new_columns = {col: format_column_names(col) for col in columns}\n",
    "data.rename(columns=new_columns, inplace=True)\n",
    "data.head()"
   ]
  },
  {
   "cell_type": "code",
   "execution_count": null,
   "id": "fc050f2e",
   "metadata": {},
   "outputs": [],
   "source": [
    "# Média do DIVIDEND YIELD das empresas com MARGEM LÍQUIDA MAIOR QUE 10%\n",
    "\n",
    "dividend_top = data.query(\"DIV_YIELD >= 0.06 and MRG_LIQ > 0.1\")\n",
    "dividend_top['DIV_YIELD'].describe()"
   ]
  },
  {
   "cell_type": "code",
   "execution_count": null,
   "id": "04b8030f",
   "metadata": {},
   "outputs": [],
   "source": [
    "sns.histplot(dividend_top['DIV_YIELD'], bins=10)"
   ]
  },
  {
   "cell_type": "code",
   "execution_count": null,
   "id": "26f1e2c9",
   "metadata": {},
   "outputs": [],
   "source": [
    "# percentual das empresas que possuem P/L maior que 4\n",
    "\n",
    "df_PL_company = data.query(\"P_L > 4\")\n",
    "percentual_company = (df_PL_company.shape[0]/data.shape[0])*100\n",
    "print(\" {:.2f}% das empreas listadas tem P/L maior que 4\".format(percentual_company, 2))\n",
    "\n",
    "df_PL_company['P_L'].describe()"
   ]
  },
  {
   "cell_type": "code",
   "execution_count": null,
   "id": "3fb8e471",
   "metadata": {},
   "outputs": [],
   "source": [
    "# empresas com *LIQUIDEZ CORRENTE* acima de 1, TEM *ROE* acime da média das empreas e *DIVIDEND YIELD* maior ou igual a 6.\n",
    "\n",
    "dividend_average = data['ROE'].mean()\n",
    "company_top = data.query(f\"ROE > {dividend_average} & DIV_YIELD >= 6\")\n",
    "company_top"
   ]
  },
  {
   "cell_type": "code",
   "execution_count": null,
   "id": "33193515",
   "metadata": {},
   "outputs": [],
   "source": [
    "# Analisando valores do ROEs das empresas\n",
    "\n",
    "data[['ROE', 'DIV_YIELD']]"
   ]
  },
  {
   "cell_type": "code",
   "execution_count": null,
   "id": "8b86da5d",
   "metadata": {},
   "outputs": [],
   "source": [
    "\n",
    "print(data['ROE'].describe())\n",
    "sns.histplot(data['ROE'], bins=40)\n"
   ]
  },
  {
   "cell_type": "code",
   "execution_count": null,
   "id": "5fcb55bc",
   "metadata": {},
   "outputs": [],
   "source": [
    "# Análise DIVIDEND YIELD\n",
    "\n",
    "data[['PAPEL', 'DIV_YIELD']]"
   ]
  },
  {
   "cell_type": "code",
   "execution_count": null,
   "id": "163be9a6",
   "metadata": {},
   "outputs": [],
   "source": [
    "# Ordenando o DataFrame com base em 'DIV_YIELD' em ordem decrescente\n",
    "data_sorted = data.sort_values('DIV_YIELD', ascending=False)\n",
    "\n",
    "# Selecionando as primeiras 10 linhas\n",
    "data_top10 = data_sorted.head(20)\n",
    "\n",
    "# Criando o gráfico de barras para os 10 maiores valores de 'DIV_YIELD'\n",
    "plt.figure(figsize=(10,6))\n",
    "sns.barplot(x='DIV_YIELD', y='PAPEL', data=data_top10[4:])\n",
    "plt.title('Top 10 PAPEL por DIV_YIELD')\n",
    "plt.xlabel('DIVIDEND YIELD')\n",
    "plt.ylabel('PAPEL')\n",
    "plt.show()\n"
   ]
  },
  {
   "cell_type": "code",
   "execution_count": null,
   "id": "f7e3a266",
   "metadata": {},
   "outputs": [],
   "source": [
    "papeis = list(data.PAPEL)"
   ]
  },
  {
   "cell_type": "code",
   "execution_count": null,
   "id": "99d8fcea",
   "metadata": {},
   "outputs": [],
   "source": [
    "papeis"
   ]
  }
 ],
 "metadata": {
  "kernelspec": {
   "display_name": "Python 3 (ipykernel)",
   "language": "python",
   "name": "python3"
  },
  "language_info": {
   "codemirror_mode": {
    "name": "ipython",
    "version": 3
   },
   "file_extension": ".py",
   "mimetype": "text/x-python",
   "name": "python",
   "nbconvert_exporter": "python",
   "pygments_lexer": "ipython3",
   "version": "3.1.0"
  }
 },
 "nbformat": 4,
 "nbformat_minor": 5
}
