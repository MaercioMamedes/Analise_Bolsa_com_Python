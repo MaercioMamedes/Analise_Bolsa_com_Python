{
 "cells": [
  {
   "cell_type": "markdown",
   "metadata": {},
   "source": [
    "### Teste com Regex para string numérica, com sepador de casa decimal com vírgula"
   ]
  },
  {
   "cell_type": "code",
   "execution_count": null,
   "metadata": {},
   "outputs": [],
   "source": [
    "x = 'abcd'\n",
    "print(x[:-1])"
   ]
  },
  {
   "cell_type": "code",
   "execution_count": null,
   "metadata": {},
   "outputs": [],
   "source": []
  },
  {
   "cell_type": "code",
   "execution_count": null,
   "metadata": {},
   "outputs": [],
   "source": [
    "import re"
   ]
  },
  {
   "cell_type": "code",
   "execution_count": null,
   "metadata": {},
   "outputs": [],
   "source": [
    "padrao = r\",\\d+\"\n",
    "texto = \"2\"\n",
    "\n",
    "resultado = re.search(padrao, texto)\n",
    "\n",
    "if resultado:\n",
    "    print(\"Padrão encontrado no início da string!\")\n",
    "else:\n",
    "    print(\"Padrão não encontrado no início da string.\")"
   ]
  },
  {
   "cell_type": "code",
   "execution_count": null,
   "metadata": {},
   "outputs": [],
   "source": [
    "pattern = r\"\\d+\\.\\d+\\.\\d+\"\n",
    "s = \"2.32.32.23\"\n",
    "\n",
    "resultado = re.search(pattern, s)\n",
    "\n",
    "if resultado:\n",
    "    print(\"Padrão encontrado no início da string!\")\n",
    "else:\n",
    "    print(\"Padrão não encontrado no início da string.\")"
   ]
  },
  {
   "cell_type": "code",
   "execution_count": null,
   "metadata": {},
   "outputs": [],
   "source": [
    "s.count(\".\")"
   ]
  },
  {
   "cell_type": "code",
   "execution_count": null,
   "metadata": {},
   "outputs": [],
   "source": [
    "list_string = [\n",
    "\n",
    "    '3.299.44',\n",
    "    '1.094.03', \n",
    "    '1.322.22',\n",
    "    '27.492.80',\n",
    "]"
   ]
  },
  {
   "cell_type": "code",
   "execution_count": null,
   "metadata": {},
   "outputs": [],
   "source": [
    "for i in range(list_string[0].count('.')):\n",
    "    print(list_string[0].find('.',))"
   ]
  },
  {
   "cell_type": "code",
   "execution_count": null,
   "metadata": {},
   "outputs": [],
   "source": [
    "x =  '39.9.9.44'\n",
    "list_index = []\n",
    "\n",
    "for index in range(len(x)):\n",
    "    if x[index] == '.':\n",
    "        list_index.append(index)\n",
    "\n",
    "s = x[:list_index[-1]].replace('.', '') + x[list_index[-1]:]\n",
    "s\n"
   ]
  },
  {
   "cell_type": "code",
   "execution_count": null,
   "metadata": {},
   "outputs": [],
   "source": [
    "import pandas as pd"
   ]
  },
  {
   "cell_type": "code",
   "execution_count": null,
   "metadata": {},
   "outputs": [],
   "source": [
    "pd.__version__"
   ]
  },
  {
   "cell_type": "code",
   "execution_count": null,
   "metadata": {},
   "outputs": [],
   "source": [
    "df = pd.DataFrame({'a':[1,2,3], 'b':[4,5,6]})"
   ]
  },
  {
   "cell_type": "code",
   "execution_count": null,
   "metadata": {},
   "outputs": [],
   "source": [
    "df.a*10"
   ]
  }
 ],
 "metadata": {
  "kernelspec": {
   "display_name": "base",
   "language": "python",
   "name": "python3"
  },
  "language_info": {
   "codemirror_mode": {
    "name": "ipython",
    "version": 3
   },
   "file_extension": ".py",
   "mimetype": "text/x-python",
   "name": "python",
   "nbconvert_exporter": "python",
   "pygments_lexer": "ipython3",
   "version": "3.1.0"
  }
 },
 "nbformat": 4,
 "nbformat_minor": 2
}
